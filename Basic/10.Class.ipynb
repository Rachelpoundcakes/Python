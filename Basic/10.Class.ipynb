{
 "cells": [
  {
   "cell_type": "code",
   "execution_count": 1,
   "id": "6bf147d8",
   "metadata": {},
   "outputs": [],
   "source": [
    "class MyClass:\n",
    "    pass"
   ]
  },
  {
   "cell_type": "code",
   "execution_count": 2,
   "id": "fe7c51e9",
   "metadata": {},
   "outputs": [
    {
     "data": {
      "text/plain": [
       "__main__.MyClass"
      ]
     },
     "execution_count": 2,
     "metadata": {},
     "output_type": "execute_result"
    }
   ],
   "source": [
    "MyClass"
   ]
  },
  {
   "cell_type": "code",
   "execution_count": 3,
   "id": "054c4bb6",
   "metadata": {},
   "outputs": [
    {
     "data": {
      "text/plain": [
       "type"
      ]
     },
     "execution_count": 3,
     "metadata": {},
     "output_type": "execute_result"
    }
   ],
   "source": [
    "type(MyClass)"
   ]
  },
  {
   "cell_type": "code",
   "execution_count": 4,
   "id": "7867ef94",
   "metadata": {},
   "outputs": [],
   "source": [
    "#설계 도면을 만드는 것\n",
    "class Person:\n",
    "    Name = 'Default Name'                            #--->property(속성)\n",
    "    \n",
    "    def Print(self):\n",
    "        print('My name is {0}'.format(self.Name))     #--->동작"
   ]
  },
  {
   "cell_type": "code",
   "execution_count": 5,
   "id": "4dc29fdf",
   "metadata": {},
   "outputs": [],
   "source": [
    "son = Person()"
   ]
  },
  {
   "cell_type": "code",
   "execution_count": 7,
   "id": "e79fb1e0",
   "metadata": {},
   "outputs": [
    {
     "name": "stdout",
     "output_type": "stream",
     "text": [
      "My name is 손흥민\n"
     ]
    }
   ],
   "source": [
    "son.Name = '손흥민'\n",
    "son.Print()"
   ]
  },
  {
   "cell_type": "code",
   "execution_count": 8,
   "id": "9e6ed963",
   "metadata": {},
   "outputs": [],
   "source": [
    "p1 = Person()\n",
    "p2 = Person()"
   ]
  },
  {
   "cell_type": "code",
   "execution_count": 9,
   "id": "678061fc",
   "metadata": {},
   "outputs": [],
   "source": [
    "p1.Name = '송중기'\n",
    "p2.Name = '박보영'"
   ]
  },
  {
   "cell_type": "code",
   "execution_count": 11,
   "id": "8b7a5f95",
   "metadata": {},
   "outputs": [
    {
     "name": "stdout",
     "output_type": "stream",
     "text": [
      "My name is 송중기\n",
      "My name is 박보영\n"
     ]
    }
   ],
   "source": [
    "p1.Print()\n",
    "p2.Print()"
   ]
  },
  {
   "cell_type": "code",
   "execution_count": 12,
   "id": "9531cb4e",
   "metadata": {},
   "outputs": [],
   "source": [
    "# instance\n",
    "\n",
    "Person.title = 'New title'"
   ]
  },
  {
   "cell_type": "code",
   "execution_count": 13,
   "id": "e31cfe02",
   "metadata": {},
   "outputs": [
    {
     "data": {
      "text/plain": [
       "'New title'"
      ]
     },
     "execution_count": 13,
     "metadata": {},
     "output_type": "execute_result"
    }
   ],
   "source": [
    "p1.title"
   ]
  },
  {
   "cell_type": "code",
   "execution_count": 14,
   "id": "c436eab3",
   "metadata": {},
   "outputs": [],
   "source": [
    "p1.age = 20"
   ]
  },
  {
   "cell_type": "code",
   "execution_count": 15,
   "id": "20fa3e16",
   "metadata": {},
   "outputs": [
    {
     "data": {
      "text/plain": [
       "20"
      ]
     },
     "execution_count": 15,
     "metadata": {},
     "output_type": "execute_result"
    }
   ],
   "source": [
    "p1.age"
   ]
  },
  {
   "cell_type": "code",
   "execution_count": 16,
   "id": "d201fbe8",
   "metadata": {},
   "outputs": [],
   "source": [
    "# 클래스의 상속\n",
    "\n",
    "class Person:\n",
    "    pass"
   ]
  },
  {
   "cell_type": "code",
   "execution_count": 17,
   "id": "3db4fcaf",
   "metadata": {},
   "outputs": [],
   "source": [
    "class Bird:\n",
    "    pass"
   ]
  },
  {
   "cell_type": "code",
   "execution_count": 18,
   "id": "d1f85dde",
   "metadata": {},
   "outputs": [],
   "source": [
    "class Student(Person):    # Student는 Person에서부터 상속받았다\n",
    "    pass"
   ]
  },
  {
   "cell_type": "code",
   "execution_count": 19,
   "id": "842b746c",
   "metadata": {},
   "outputs": [],
   "source": [
    "p = Person()    # p는 Person에서 만든 인스턴스\n",
    "s = Student()    # s는 Student에서 만든 인스턴스"
   ]
  },
  {
   "cell_type": "code",
   "execution_count": 21,
   "id": "71cc0c22",
   "metadata": {},
   "outputs": [
    {
     "data": {
      "text/plain": [
       "True"
      ]
     },
     "execution_count": 21,
     "metadata": {},
     "output_type": "execute_result"
    }
   ],
   "source": [
    "isinstance(p, Person)"
   ]
  },
  {
   "cell_type": "code",
   "execution_count": 23,
   "id": "7738d34b",
   "metadata": {},
   "outputs": [
    {
     "data": {
      "text/plain": [
       "True"
      ]
     },
     "execution_count": 23,
     "metadata": {},
     "output_type": "execute_result"
    }
   ],
   "source": [
    "isinstance(s, Person)"
   ]
  },
  {
   "cell_type": "code",
   "execution_count": 25,
   "id": "56403c37",
   "metadata": {},
   "outputs": [
    {
     "data": {
      "text/plain": [
       "True"
      ]
     },
     "execution_count": 25,
     "metadata": {},
     "output_type": "execute_result"
    }
   ],
   "source": [
    "isinstance(s, object)"
   ]
  },
  {
   "cell_type": "code",
   "execution_count": 26,
   "id": "608e3887",
   "metadata": {},
   "outputs": [
    {
     "data": {
      "text/plain": [
       "False"
      ]
     },
     "execution_count": 26,
     "metadata": {},
     "output_type": "execute_result"
    }
   ],
   "source": [
    "isinstance(p, Bird)"
   ]
  },
  {
   "cell_type": "code",
   "execution_count": 29,
   "id": "b16e7d9b",
   "metadata": {},
   "outputs": [],
   "source": [
    "# 생성자, 소멸자\n",
    "\n",
    "class MyClass:\n",
    "    # 생성자 #value는 변수이름. 다른 걸로 해도 됨\n",
    "    def __init__(self, value):\n",
    "        self.Value = value\n",
    "        print('Class is created! Value = ', value)\n",
    "        \n",
    "    # 소멸자\n",
    "    def __del__(self):\n",
    "        print('Class is deleted')"
   ]
  },
  {
   "cell_type": "code",
   "execution_count": 33,
   "id": "637e6ae9",
   "metadata": {},
   "outputs": [
    {
     "name": "stdout",
     "output_type": "stream",
     "text": [
      "Class is created! Value =  10\n",
      "Class is deleted\n"
     ]
    }
   ],
   "source": [
    "m = MyClass(10)"
   ]
  },
  {
   "cell_type": "code",
   "execution_count": 34,
   "id": "ac5a2dbb",
   "metadata": {},
   "outputs": [
    {
     "name": "stdout",
     "output_type": "stream",
     "text": [
      "Class is deleted\n"
     ]
    }
   ],
   "source": [
    "del m"
   ]
  },
  {
   "cell_type": "code",
   "execution_count": 36,
   "id": "c547e527",
   "metadata": {},
   "outputs": [],
   "source": [
    "# 정적 메소드\n",
    "\n",
    "class CounterManager:\n",
    "    insCount= 0\n",
    "    \n",
    "    def __init__(self):\n",
    "        CounterManager.insCount += 1\n",
    "    \n",
    "    def printInstanceCount():\n",
    "        print('Instance Count:', CounterManager.insCount)"
   ]
  },
  {
   "cell_type": "code",
   "execution_count": 37,
   "id": "c4d18407",
   "metadata": {},
   "outputs": [],
   "source": [
    "# a = CounterManager()\n",
    "# b = CounterManager()\n",
    "# c = CounterManager()\n",
    "\n",
    "a, b, c = CounterManager(), CounterManager(), CounterManager()"
   ]
  },
  {
   "cell_type": "code",
   "execution_count": 38,
   "id": "fa1c5bbf",
   "metadata": {},
   "outputs": [
    {
     "name": "stdout",
     "output_type": "stream",
     "text": [
      "Instance Count: 3\n"
     ]
    }
   ],
   "source": [
    "CounterManager.printInstanceCount()"
   ]
  },
  {
   "cell_type": "code",
   "execution_count": 40,
   "id": "8dbca9e7",
   "metadata": {},
   "outputs": [],
   "source": [
    "# 상속의 확장\n",
    "\n",
    "class Person:\n",
    "    def __init__(self, name, phone):\n",
    "        self.Name = name\n",
    "        self.Phone = phone\n",
    "        \n",
    "    def PrintInfo(self):\n",
    "        print('Info(Name: {0}, Phone: {1})'.format(self.Name, self.Phone))\n",
    "    \n",
    "    def PrintPersonData(self):\n",
    "        print('Person(Name: {0}, Phone: {1})'.format(self.Name, self.Phone))\n",
    "        "
   ]
  },
  {
   "cell_type": "code",
   "execution_count": 42,
   "id": "ce212363",
   "metadata": {},
   "outputs": [],
   "source": [
    "class Student(Person):\n",
    "    \n",
    "    def __init__(self, name, phone, subject, studentID):\n",
    "        self.Name = name\n",
    "        self.Phone = phone\n",
    "        self.Subject = subject\n",
    "        self.Student = studentID\n",
    "        "
   ]
  },
  {
   "cell_type": "code",
   "execution_count": 43,
   "id": "6444c654",
   "metadata": {},
   "outputs": [],
   "source": [
    "p = Person('IU', '010-0000-0000')\n",
    "s = Student('MinA', '010-111-1111', 'Computer Science', '00000')"
   ]
  },
  {
   "cell_type": "code",
   "execution_count": 45,
   "id": "641e65b7",
   "metadata": {},
   "outputs": [
    {
     "data": {
      "text/plain": [
       "{'Name': 'IU', 'Phone': '010-0000-0000'}"
      ]
     },
     "execution_count": 45,
     "metadata": {},
     "output_type": "execute_result"
    }
   ],
   "source": [
    "p.__dict__  # 속성 확인"
   ]
  },
  {
   "cell_type": "code",
   "execution_count": 46,
   "id": "14165329",
   "metadata": {},
   "outputs": [
    {
     "data": {
      "text/plain": [
       "{'name': 'MinA',\n",
       " 'phone': '010-111-1111',\n",
       " 'subject': 'Computer Science',\n",
       " 'student': '00000'}"
      ]
     },
     "execution_count": 46,
     "metadata": {},
     "output_type": "execute_result"
    }
   ],
   "source": [
    "s.__dict__"
   ]
  },
  {
   "cell_type": "code",
   "execution_count": 51,
   "id": "d4386213",
   "metadata": {},
   "outputs": [
    {
     "ename": "AttributeError",
     "evalue": "'Person' object has no attribute 'PrintInfo'",
     "output_type": "error",
     "traceback": [
      "\u001b[1;31m---------------------------------------------------------------------------\u001b[0m",
      "\u001b[1;31mAttributeError\u001b[0m                            Traceback (most recent call last)",
      "Input \u001b[1;32mIn [51]\u001b[0m, in \u001b[0;36m<cell line: 1>\u001b[1;34m()\u001b[0m\n\u001b[1;32m----> 1\u001b[0m \u001b[43mp\u001b[49m\u001b[38;5;241;43m.\u001b[39;49m\u001b[43mPrintInfo\u001b[49m\n",
      "\u001b[1;31mAttributeError\u001b[0m: 'Person' object has no attribute 'PrintInfo'"
     ]
    }
   ],
   "source": [
    "p.PrintInfo()"
   ]
  },
  {
   "cell_type": "code",
   "execution_count": 54,
   "id": "2bec13d3",
   "metadata": {},
   "outputs": [
    {
     "ename": "AttributeError",
     "evalue": "'Student' object has no attribute 'PrintInfo'",
     "output_type": "error",
     "traceback": [
      "\u001b[1;31m---------------------------------------------------------------------------\u001b[0m",
      "\u001b[1;31mAttributeError\u001b[0m                            Traceback (most recent call last)",
      "Input \u001b[1;32mIn [54]\u001b[0m, in \u001b[0;36m<cell line: 1>\u001b[1;34m()\u001b[0m\n\u001b[1;32m----> 1\u001b[0m \u001b[43ms\u001b[49m\u001b[38;5;241;43m.\u001b[39;49m\u001b[43mPrintInfo\u001b[49m()\n",
      "\u001b[1;31mAttributeError\u001b[0m: 'Student' object has no attribute 'PrintInfo'"
     ]
    }
   ],
   "source": [
    "s.PrintInfo()"
   ]
  },
  {
   "cell_type": "code",
   "execution_count": 52,
   "id": "3a7736fa",
   "metadata": {},
   "outputs": [
    {
     "data": {
      "text/plain": [
       "True"
      ]
     },
     "execution_count": 52,
     "metadata": {},
     "output_type": "execute_result"
    }
   ],
   "source": [
    "# 상속 관계의 확인\n",
    "issubclass(Student, Person)"
   ]
  },
  {
   "cell_type": "code",
   "execution_count": 53,
   "id": "79443e83",
   "metadata": {},
   "outputs": [
    {
     "data": {
      "text/plain": [
       "False"
      ]
     },
     "execution_count": 53,
     "metadata": {},
     "output_type": "execute_result"
    }
   ],
   "source": [
    "issubclass(Person, Student)"
   ]
  },
  {
   "cell_type": "code",
   "execution_count": 55,
   "id": "962b88c3",
   "metadata": {},
   "outputs": [],
   "source": [
    "# 다중 상속\n",
    "class Tiger:\n",
    "    def Jump(self):\n",
    "        print('Tiger Jump!!')"
   ]
  },
  {
   "cell_type": "code",
   "execution_count": 56,
   "id": "faaa71df",
   "metadata": {},
   "outputs": [],
   "source": [
    "class Lion:\n",
    "    def Bite(self):\n",
    "        print('Lion bite')"
   ]
  },
  {
   "cell_type": "code",
   "execution_count": 59,
   "id": "1c5e5a1f",
   "metadata": {},
   "outputs": [],
   "source": [
    "class Liger(Tiger, Lion):            # 타이거와 리이거로부터 상속받음\n",
    "    def Play(self):\n",
    "        print('Liger player')"
   ]
  },
  {
   "cell_type": "code",
   "execution_count": 61,
   "id": "330c5f53",
   "metadata": {},
   "outputs": [],
   "source": [
    "l = Liger()"
   ]
  },
  {
   "cell_type": "code",
   "execution_count": 62,
   "id": "9f4d5283",
   "metadata": {},
   "outputs": [
    {
     "name": "stdout",
     "output_type": "stream",
     "text": [
      "Liger player\n"
     ]
    }
   ],
   "source": [
    "l.Play()"
   ]
  },
  {
   "cell_type": "code",
   "execution_count": 63,
   "id": "fa95d8da",
   "metadata": {},
   "outputs": [
    {
     "name": "stdout",
     "output_type": "stream",
     "text": [
      "Tiger Jump!!\n"
     ]
    }
   ],
   "source": [
    "l.Jump()"
   ]
  },
  {
   "cell_type": "code",
   "execution_count": 64,
   "id": "d1bb8a30",
   "metadata": {},
   "outputs": [
    {
     "name": "stdout",
     "output_type": "stream",
     "text": [
      "Lion bite\n"
     ]
    }
   ],
   "source": [
    "l.Bite()"
   ]
  },
  {
   "cell_type": "code",
   "execution_count": null,
   "id": "f3a85839",
   "metadata": {},
   "outputs": [],
   "source": []
  }
 ],
 "metadata": {
  "kernelspec": {
   "display_name": "Python 3 (ipykernel)",
   "language": "python",
   "name": "python3"
  },
  "language_info": {
   "codemirror_mode": {
    "name": "ipython",
    "version": 3
   },
   "file_extension": ".py",
   "mimetype": "text/x-python",
   "name": "python",
   "nbconvert_exporter": "python",
   "pygments_lexer": "ipython3",
   "version": "3.9.12"
  }
 },
 "nbformat": 4,
 "nbformat_minor": 5
}
